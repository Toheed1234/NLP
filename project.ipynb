{
 "cells": [
  {
   "cell_type": "code",
   "execution_count": 1,
   "metadata": {},
   "outputs": [
    {
     "name": "stdout",
     "output_type": "stream",
     "text": [
      "Collecting transformers\n",
      "  Downloading transformers-4.47.0-py3-none-any.whl.metadata (43 kB)\n",
      "Collecting datasets\n",
      "  Downloading datasets-3.2.0-py3-none-any.whl.metadata (20 kB)\n",
      "Collecting accelerate\n",
      "  Downloading accelerate-1.2.1-py3-none-any.whl.metadata (19 kB)\n",
      "Requirement already satisfied: torch in c:\\users\\toheed\\documents\\github\\testprojects\\venv\\lib\\site-packages (2.5.1+cu124)\n",
      "Requirement already satisfied: filelock in c:\\users\\toheed\\documents\\github\\testprojects\\venv\\lib\\site-packages (from transformers) (3.16.1)\n",
      "Collecting huggingface-hub<1.0,>=0.24.0 (from transformers)\n",
      "  Downloading huggingface_hub-0.27.0-py3-none-any.whl.metadata (13 kB)\n",
      "Requirement already satisfied: numpy>=1.17 in c:\\users\\toheed\\documents\\github\\testprojects\\venv\\lib\\site-packages (from transformers) (1.26.3)\n",
      "Requirement already satisfied: packaging>=20.0 in c:\\users\\toheed\\documents\\github\\testprojects\\venv\\lib\\site-packages (from transformers) (24.2)\n",
      "Requirement already satisfied: pyyaml>=5.1 in c:\\users\\toheed\\documents\\github\\testprojects\\venv\\lib\\site-packages (from transformers) (6.0.2)\n",
      "Collecting regex!=2019.12.17 (from transformers)\n",
      "  Using cached regex-2024.11.6-cp312-cp312-win_amd64.whl.metadata (41 kB)\n",
      "Requirement already satisfied: requests in c:\\users\\toheed\\documents\\github\\testprojects\\venv\\lib\\site-packages (from transformers) (2.32.3)\n",
      "Collecting tokenizers<0.22,>=0.21 (from transformers)\n",
      "  Downloading tokenizers-0.21.0-cp39-abi3-win_amd64.whl.metadata (6.9 kB)\n",
      "Collecting safetensors>=0.4.1 (from transformers)\n",
      "  Using cached safetensors-0.4.5-cp312-none-win_amd64.whl.metadata (3.9 kB)\n",
      "Collecting tqdm>=4.27 (from transformers)\n",
      "  Using cached tqdm-4.67.1-py3-none-any.whl.metadata (57 kB)\n",
      "Collecting pyarrow>=15.0.0 (from datasets)\n",
      "  Downloading pyarrow-18.1.0-cp312-cp312-win_amd64.whl.metadata (3.4 kB)\n",
      "Collecting dill<0.3.9,>=0.3.0 (from datasets)\n",
      "  Downloading dill-0.3.8-py3-none-any.whl.metadata (10 kB)\n",
      "Requirement already satisfied: pandas in c:\\users\\toheed\\documents\\github\\testprojects\\venv\\lib\\site-packages (from datasets) (2.2.3)\n",
      "Collecting xxhash (from datasets)\n",
      "  Downloading xxhash-3.5.0-cp312-cp312-win_amd64.whl.metadata (13 kB)\n",
      "Collecting multiprocess<0.70.17 (from datasets)\n",
      "  Downloading multiprocess-0.70.16-py312-none-any.whl.metadata (7.2 kB)\n",
      "Collecting fsspec<=2024.9.0,>=2023.1.0 (from fsspec[http]<=2024.9.0,>=2023.1.0->datasets)\n",
      "  Downloading fsspec-2024.9.0-py3-none-any.whl.metadata (11 kB)\n",
      "Requirement already satisfied: aiohttp in c:\\users\\toheed\\documents\\github\\testprojects\\venv\\lib\\site-packages (from datasets) (3.10.5)\n",
      "Requirement already satisfied: psutil in c:\\users\\toheed\\documents\\github\\testprojects\\venv\\lib\\site-packages (from accelerate) (6.1.0)\n",
      "Requirement already satisfied: typing-extensions>=4.8.0 in c:\\users\\toheed\\documents\\github\\testprojects\\venv\\lib\\site-packages (from torch) (4.12.2)\n",
      "Requirement already satisfied: networkx in c:\\users\\toheed\\documents\\github\\testprojects\\venv\\lib\\site-packages (from torch) (3.4.2)\n",
      "Requirement already satisfied: jinja2 in c:\\users\\toheed\\documents\\github\\testprojects\\venv\\lib\\site-packages (from torch) (3.1.4)\n",
      "Requirement already satisfied: setuptools in c:\\users\\toheed\\documents\\github\\testprojects\\venv\\lib\\site-packages (from torch) (75.6.0)\n",
      "Requirement already satisfied: sympy==1.13.1 in c:\\users\\toheed\\documents\\github\\testprojects\\venv\\lib\\site-packages (from torch) (1.13.1)\n",
      "Requirement already satisfied: mpmath<1.4,>=1.1.0 in c:\\users\\toheed\\documents\\github\\testprojects\\venv\\lib\\site-packages (from sympy==1.13.1->torch) (1.3.0)\n",
      "Requirement already satisfied: aiohappyeyeballs>=2.3.0 in c:\\users\\toheed\\documents\\github\\testprojects\\venv\\lib\\site-packages (from aiohttp->datasets) (2.4.4)\n",
      "Requirement already satisfied: aiosignal>=1.1.2 in c:\\users\\toheed\\documents\\github\\testprojects\\venv\\lib\\site-packages (from aiohttp->datasets) (1.3.1)\n",
      "Requirement already satisfied: attrs>=17.3.0 in c:\\users\\toheed\\documents\\github\\testprojects\\venv\\lib\\site-packages (from aiohttp->datasets) (24.2.0)\n",
      "Requirement already satisfied: frozenlist>=1.1.1 in c:\\users\\toheed\\documents\\github\\testprojects\\venv\\lib\\site-packages (from aiohttp->datasets) (1.5.0)\n",
      "Requirement already satisfied: multidict<7.0,>=4.5 in c:\\users\\toheed\\documents\\github\\testprojects\\venv\\lib\\site-packages (from aiohttp->datasets) (6.1.0)\n",
      "Requirement already satisfied: yarl<2.0,>=1.0 in c:\\users\\toheed\\documents\\github\\testprojects\\venv\\lib\\site-packages (from aiohttp->datasets) (1.18.3)\n",
      "Requirement already satisfied: charset-normalizer<4,>=2 in c:\\users\\toheed\\documents\\github\\testprojects\\venv\\lib\\site-packages (from requests->transformers) (3.4.0)\n",
      "Requirement already satisfied: idna<4,>=2.5 in c:\\users\\toheed\\documents\\github\\testprojects\\venv\\lib\\site-packages (from requests->transformers) (3.10)\n",
      "Requirement already satisfied: urllib3<3,>=1.21.1 in c:\\users\\toheed\\documents\\github\\testprojects\\venv\\lib\\site-packages (from requests->transformers) (2.2.3)\n",
      "Requirement already satisfied: certifi>=2017.4.17 in c:\\users\\toheed\\documents\\github\\testprojects\\venv\\lib\\site-packages (from requests->transformers) (2024.8.30)\n",
      "Requirement already satisfied: colorama in c:\\users\\toheed\\documents\\github\\testprojects\\venv\\lib\\site-packages (from tqdm>=4.27->transformers) (0.4.6)\n",
      "Requirement already satisfied: MarkupSafe>=2.0 in c:\\users\\toheed\\documents\\github\\testprojects\\venv\\lib\\site-packages (from jinja2->torch) (3.0.2)\n",
      "Requirement already satisfied: python-dateutil>=2.8.2 in c:\\users\\toheed\\documents\\github\\testprojects\\venv\\lib\\site-packages (from pandas->datasets) (2.9.0.post0)\n",
      "Requirement already satisfied: pytz>=2020.1 in c:\\users\\toheed\\documents\\github\\testprojects\\venv\\lib\\site-packages (from pandas->datasets) (2024.2)\n",
      "Requirement already satisfied: tzdata>=2022.7 in c:\\users\\toheed\\documents\\github\\testprojects\\venv\\lib\\site-packages (from pandas->datasets) (2024.2)\n",
      "Requirement already satisfied: six>=1.5 in c:\\users\\toheed\\documents\\github\\testprojects\\venv\\lib\\site-packages (from python-dateutil>=2.8.2->pandas->datasets) (1.16.0)\n",
      "Requirement already satisfied: propcache>=0.2.0 in c:\\users\\toheed\\documents\\github\\testprojects\\venv\\lib\\site-packages (from yarl<2.0,>=1.0->aiohttp->datasets) (0.2.1)\n",
      "Downloading transformers-4.47.0-py3-none-any.whl (10.1 MB)\n",
      "   ---------------------------------------- 0.0/10.1 MB ? eta -:--:--\n",
      "   ------- -------------------------------- 1.8/10.1 MB 10.1 MB/s eta 0:00:01\n",
      "   ---------------- ----------------------- 4.2/10.1 MB 10.1 MB/s eta 0:00:01\n",
      "   ------------------------ --------------- 6.3/10.1 MB 10.2 MB/s eta 0:00:01\n",
      "   --------------------------------- ------ 8.4/10.1 MB 10.0 MB/s eta 0:00:01\n",
      "   ---------------------------------------- 10.1/10.1 MB 9.9 MB/s eta 0:00:00\n",
      "Downloading datasets-3.2.0-py3-none-any.whl (480 kB)\n",
      "Downloading accelerate-1.2.1-py3-none-any.whl (336 kB)\n",
      "Downloading dill-0.3.8-py3-none-any.whl (116 kB)\n",
      "Downloading fsspec-2024.9.0-py3-none-any.whl (179 kB)\n",
      "Downloading huggingface_hub-0.27.0-py3-none-any.whl (450 kB)\n",
      "Downloading multiprocess-0.70.16-py312-none-any.whl (146 kB)\n",
      "Downloading pyarrow-18.1.0-cp312-cp312-win_amd64.whl (25.1 MB)\n",
      "   ---------------------------------------- 0.0/25.1 MB ? eta -:--:--\n",
      "   -- ------------------------------------- 1.8/25.1 MB 9.1 MB/s eta 0:00:03\n",
      "   ------ --------------------------------- 3.9/25.1 MB 9.8 MB/s eta 0:00:03\n",
      "   --------- ------------------------------ 6.0/25.1 MB 10.0 MB/s eta 0:00:02\n",
      "   ------------ --------------------------- 8.1/25.1 MB 9.9 MB/s eta 0:00:02\n",
      "   ---------------- ----------------------- 10.2/25.1 MB 10.0 MB/s eta 0:00:02\n",
      "   ------------------- -------------------- 12.3/25.1 MB 10.0 MB/s eta 0:00:02\n",
      "   ----------------------- ---------------- 14.7/25.1 MB 9.9 MB/s eta 0:00:02\n",
      "   -------------------------- ------------- 16.8/25.1 MB 10.0 MB/s eta 0:00:01\n",
      "   ------------------------------ --------- 18.9/25.1 MB 10.0 MB/s eta 0:00:01\n",
      "   --------------------------------- ------ 21.0/25.1 MB 10.0 MB/s eta 0:00:01\n",
      "   ------------------------------------ --- 23.1/25.1 MB 10.0 MB/s eta 0:00:01\n",
      "   ---------------------------------------- 25.1/25.1 MB 9.9 MB/s eta 0:00:00\n",
      "Using cached regex-2024.11.6-cp312-cp312-win_amd64.whl (273 kB)\n",
      "Using cached safetensors-0.4.5-cp312-none-win_amd64.whl (286 kB)\n",
      "Downloading tokenizers-0.21.0-cp39-abi3-win_amd64.whl (2.4 MB)\n",
      "   ---------------------------------------- 0.0/2.4 MB ? eta -:--:--\n",
      "   ----------------------------------- ---- 2.1/2.4 MB 9.8 MB/s eta 0:00:01\n",
      "   ---------------------------------------- 2.4/2.4 MB 9.7 MB/s eta 0:00:00\n",
      "Using cached tqdm-4.67.1-py3-none-any.whl (78 kB)\n",
      "Downloading xxhash-3.5.0-cp312-cp312-win_amd64.whl (30 kB)\n",
      "Installing collected packages: xxhash, tqdm, safetensors, regex, pyarrow, fsspec, dill, multiprocess, huggingface-hub, tokenizers, accelerate, transformers, datasets\n",
      "  Attempting uninstall: fsspec\n",
      "    Found existing installation: fsspec 2024.10.0\n",
      "    Uninstalling fsspec-2024.10.0:\n",
      "      Successfully uninstalled fsspec-2024.10.0\n",
      "Successfully installed accelerate-1.2.1 datasets-3.2.0 dill-0.3.8 fsspec-2024.9.0 huggingface-hub-0.27.0 multiprocess-0.70.16 pyarrow-18.1.0 regex-2024.11.6 safetensors-0.4.5 tokenizers-0.21.0 tqdm-4.67.1 transformers-4.47.0 xxhash-3.5.0\n"
     ]
    }
   ],
   "source": [
    "!pip install transformers datasets accelerate torch --upgrade"
   ]
  },
  {
   "cell_type": "code",
   "execution_count": 2,
   "metadata": {},
   "outputs": [
    {
     "name": "stdout",
     "output_type": "stream",
     "text": [
      "Collecting dspy\n",
      "  Downloading dspy-2.5.43-py3-none-any.whl.metadata (7.3 kB)\n",
      "Requirement already satisfied: anyio in c:\\users\\toheed\\documents\\github\\testprojects\\venv\\lib\\site-packages (from dspy) (4.6.2.post1)\n",
      "Collecting asyncer==0.0.8 (from dspy)\n",
      "  Downloading asyncer-0.0.8-py3-none-any.whl.metadata (6.7 kB)\n",
      "Collecting backoff (from dspy)\n",
      "  Downloading backoff-2.2.1-py3-none-any.whl.metadata (14 kB)\n",
      "Collecting cachetools (from dspy)\n",
      "  Downloading cachetools-5.5.0-py3-none-any.whl.metadata (5.3 kB)\n",
      "Requirement already satisfied: datasets in c:\\users\\toheed\\documents\\github\\testprojects\\venv\\lib\\site-packages (from dspy) (3.2.0)\n",
      "Collecting diskcache (from dspy)\n",
      "  Downloading diskcache-5.6.3-py3-none-any.whl.metadata (20 kB)\n",
      "Requirement already satisfied: httpx in c:\\users\\toheed\\documents\\github\\testprojects\\venv\\lib\\site-packages (from dspy) (0.28.0)\n",
      "Requirement already satisfied: joblib~=1.3 in c:\\users\\toheed\\documents\\github\\testprojects\\venv\\lib\\site-packages (from dspy) (1.4.2)\n",
      "Collecting json-repair (from dspy)\n",
      "  Downloading json_repair-0.31.0-py3-none-any.whl.metadata (11 kB)\n",
      "Collecting litellm==1.53.7 (from litellm[proxy]==1.53.7->dspy)\n",
      "  Downloading litellm-1.53.7-py3-none-any.whl.metadata (33 kB)\n",
      "Collecting magicattr~=0.1.6 (from dspy)\n",
      "  Downloading magicattr-0.1.6-py2.py3-none-any.whl.metadata (3.2 kB)\n",
      "Collecting openai (from dspy)\n",
      "  Downloading openai-1.57.4-py3-none-any.whl.metadata (24 kB)\n",
      "Collecting optuna (from dspy)\n",
      "  Downloading optuna-4.1.0-py3-none-any.whl.metadata (16 kB)\n",
      "Requirement already satisfied: pandas in c:\\users\\toheed\\documents\\github\\testprojects\\venv\\lib\\site-packages (from dspy) (2.2.3)\n",
      "Collecting pydantic~=2.0 (from dspy)\n",
      "  Downloading pydantic-2.10.3-py3-none-any.whl.metadata (172 kB)\n",
      "Requirement already satisfied: regex in c:\\users\\toheed\\documents\\github\\testprojects\\venv\\lib\\site-packages (from dspy) (2024.11.6)\n",
      "Requirement already satisfied: requests in c:\\users\\toheed\\documents\\github\\testprojects\\venv\\lib\\site-packages (from dspy) (2.32.3)\n",
      "Collecting tenacity>=8.2.3 (from dspy)\n",
      "  Downloading tenacity-9.0.0-py3-none-any.whl.metadata (1.2 kB)\n",
      "Requirement already satisfied: tqdm in c:\\users\\toheed\\documents\\github\\testprojects\\venv\\lib\\site-packages (from dspy) (4.67.1)\n",
      "Collecting ujson (from dspy)\n",
      "  Downloading ujson-5.10.0-cp312-cp312-win_amd64.whl.metadata (9.5 kB)\n",
      "Collecting cloudpickle (from dspy)\n",
      "  Downloading cloudpickle-3.1.0-py3-none-any.whl.metadata (7.0 kB)\n",
      "Requirement already satisfied: jinja2 in c:\\users\\toheed\\documents\\github\\testprojects\\venv\\lib\\site-packages (from dspy) (3.1.4)\n",
      "Requirement already satisfied: aiohttp in c:\\users\\toheed\\documents\\github\\testprojects\\venv\\lib\\site-packages (from litellm==1.53.7->litellm[proxy]==1.53.7->dspy) (3.10.5)\n",
      "Requirement already satisfied: click in c:\\users\\toheed\\documents\\github\\testprojects\\venv\\lib\\site-packages (from litellm==1.53.7->litellm[proxy]==1.53.7->dspy) (8.1.7)\n",
      "Collecting httpx (from dspy)\n",
      "  Using cached httpx-0.27.2-py3-none-any.whl.metadata (7.1 kB)\n",
      "Requirement already satisfied: importlib-metadata>=6.8.0 in c:\\users\\toheed\\documents\\github\\testprojects\\venv\\lib\\site-packages (from litellm==1.53.7->litellm[proxy]==1.53.7->dspy) (8.5.0)\n",
      "Requirement already satisfied: jsonschema<5.0.0,>=4.22.0 in c:\\users\\toheed\\documents\\github\\testprojects\\venv\\lib\\site-packages (from litellm==1.53.7->litellm[proxy]==1.53.7->dspy) (4.23.0)\n",
      "Collecting python-dotenv>=0.2.0 (from litellm==1.53.7->litellm[proxy]==1.53.7->dspy)\n",
      "  Downloading python_dotenv-1.0.1-py3-none-any.whl.metadata (23 kB)\n",
      "Collecting tiktoken>=0.7.0 (from litellm==1.53.7->litellm[proxy]==1.53.7->dspy)\n",
      "  Downloading tiktoken-0.8.0-cp312-cp312-win_amd64.whl.metadata (6.8 kB)\n",
      "Requirement already satisfied: tokenizers in c:\\users\\toheed\\documents\\github\\testprojects\\venv\\lib\\site-packages (from litellm==1.53.7->litellm[proxy]==1.53.7->dspy) (0.21.0)\n",
      "Collecting PyJWT<3.0.0,>=2.8.0 (from litellm[proxy]==1.53.7->dspy)\n",
      "  Downloading PyJWT-2.10.1-py3-none-any.whl.metadata (4.0 kB)\n",
      "Collecting apscheduler<4.0.0,>=3.10.4 (from litellm[proxy]==1.53.7->dspy)\n",
      "  Downloading APScheduler-3.11.0-py3-none-any.whl.metadata (6.4 kB)\n",
      "Collecting cryptography<43.0.0,>=42.0.5 (from litellm[proxy]==1.53.7->dspy)\n",
      "  Downloading cryptography-42.0.8-cp39-abi3-win_amd64.whl.metadata (5.4 kB)\n",
      "Collecting fastapi<0.112.0,>=0.111.0 (from litellm[proxy]==1.53.7->dspy)\n",
      "  Downloading fastapi-0.111.1-py3-none-any.whl.metadata (26 kB)\n",
      "Collecting fastapi-sso<0.11.0,>=0.10.0 (from litellm[proxy]==1.53.7->dspy)\n",
      "  Downloading fastapi_sso-0.10.0-py3-none-any.whl.metadata (4.4 kB)\n",
      "Collecting gunicorn<23.0.0,>=22.0.0 (from litellm[proxy]==1.53.7->dspy)\n",
      "  Downloading gunicorn-22.0.0-py3-none-any.whl.metadata (4.4 kB)\n",
      "Collecting orjson<4.0.0,>=3.9.7 (from litellm[proxy]==1.53.7->dspy)\n",
      "  Downloading orjson-3.10.12-cp312-none-win_amd64.whl.metadata (42 kB)\n",
      "Collecting pynacl<2.0.0,>=1.5.0 (from litellm[proxy]==1.53.7->dspy)\n",
      "  Downloading PyNaCl-1.5.0-cp36-abi3-win_amd64.whl.metadata (8.7 kB)\n",
      "Collecting python-multipart<0.0.10,>=0.0.9 (from litellm[proxy]==1.53.7->dspy)\n",
      "  Downloading python_multipart-0.0.9-py3-none-any.whl.metadata (2.5 kB)\n",
      "Requirement already satisfied: pyyaml<7.0.0,>=6.0.1 in c:\\users\\toheed\\documents\\github\\testprojects\\venv\\lib\\site-packages (from litellm[proxy]==1.53.7->dspy) (6.0.2)\n",
      "Collecting rq (from litellm[proxy]==1.53.7->dspy)\n",
      "  Downloading rq-2.0.0-py3-none-any.whl.metadata (5.8 kB)\n",
      "Collecting uvicorn<0.23.0,>=0.22.0 (from litellm[proxy]==1.53.7->dspy)\n",
      "  Downloading uvicorn-0.22.0-py3-none-any.whl.metadata (6.3 kB)\n",
      "Requirement already satisfied: idna>=2.8 in c:\\users\\toheed\\documents\\github\\testprojects\\venv\\lib\\site-packages (from anyio->dspy) (3.10)\n",
      "Requirement already satisfied: sniffio>=1.1 in c:\\users\\toheed\\documents\\github\\testprojects\\venv\\lib\\site-packages (from anyio->dspy) (1.3.1)\n",
      "Requirement already satisfied: certifi in c:\\users\\toheed\\documents\\github\\testprojects\\venv\\lib\\site-packages (from httpx->dspy) (2024.8.30)\n",
      "Requirement already satisfied: httpcore==1.* in c:\\users\\toheed\\documents\\github\\testprojects\\venv\\lib\\site-packages (from httpx->dspy) (1.0.7)\n",
      "Requirement already satisfied: h11<0.15,>=0.13 in c:\\users\\toheed\\documents\\github\\testprojects\\venv\\lib\\site-packages (from httpcore==1.*->httpx->dspy) (0.14.0)\n",
      "Requirement already satisfied: MarkupSafe>=2.0 in c:\\users\\toheed\\documents\\github\\testprojects\\venv\\lib\\site-packages (from jinja2->dspy) (3.0.2)\n",
      "Collecting distro<2,>=1.7.0 (from openai->dspy)\n",
      "  Downloading distro-1.9.0-py3-none-any.whl.metadata (6.8 kB)\n",
      "Collecting jiter<1,>=0.4.0 (from openai->dspy)\n",
      "  Downloading jiter-0.8.2-cp312-cp312-win_amd64.whl.metadata (5.3 kB)\n",
      "Requirement already satisfied: typing-extensions<5,>=4.11 in c:\\users\\toheed\\documents\\github\\testprojects\\venv\\lib\\site-packages (from openai->dspy) (4.12.2)\n",
      "Collecting annotated-types>=0.6.0 (from pydantic~=2.0->dspy)\n",
      "  Downloading annotated_types-0.7.0-py3-none-any.whl.metadata (15 kB)\n",
      "Collecting pydantic-core==2.27.1 (from pydantic~=2.0->dspy)\n",
      "  Downloading pydantic_core-2.27.1-cp312-none-win_amd64.whl.metadata (6.7 kB)\n",
      "Requirement already satisfied: charset-normalizer<4,>=2 in c:\\users\\toheed\\documents\\github\\testprojects\\venv\\lib\\site-packages (from requests->dspy) (3.4.0)\n",
      "Requirement already satisfied: urllib3<3,>=1.21.1 in c:\\users\\toheed\\documents\\github\\testprojects\\venv\\lib\\site-packages (from requests->dspy) (2.2.3)\n",
      "Requirement already satisfied: colorama in c:\\users\\toheed\\documents\\github\\testprojects\\venv\\lib\\site-packages (from tqdm->dspy) (0.4.6)\n",
      "Requirement already satisfied: filelock in c:\\users\\toheed\\documents\\github\\testprojects\\venv\\lib\\site-packages (from datasets->dspy) (3.16.1)\n",
      "Requirement already satisfied: numpy>=1.17 in c:\\users\\toheed\\documents\\github\\testprojects\\venv\\lib\\site-packages (from datasets->dspy) (1.26.3)\n",
      "Requirement already satisfied: pyarrow>=15.0.0 in c:\\users\\toheed\\documents\\github\\testprojects\\venv\\lib\\site-packages (from datasets->dspy) (18.1.0)\n",
      "Requirement already satisfied: dill<0.3.9,>=0.3.0 in c:\\users\\toheed\\documents\\github\\testprojects\\venv\\lib\\site-packages (from datasets->dspy) (0.3.8)\n",
      "Requirement already satisfied: xxhash in c:\\users\\toheed\\documents\\github\\testprojects\\venv\\lib\\site-packages (from datasets->dspy) (3.5.0)\n",
      "Requirement already satisfied: multiprocess<0.70.17 in c:\\users\\toheed\\documents\\github\\testprojects\\venv\\lib\\site-packages (from datasets->dspy) (0.70.16)\n",
      "Requirement already satisfied: fsspec<=2024.9.0,>=2023.1.0 in c:\\users\\toheed\\documents\\github\\testprojects\\venv\\lib\\site-packages (from fsspec[http]<=2024.9.0,>=2023.1.0->datasets->dspy) (2024.9.0)\n",
      "Requirement already satisfied: huggingface-hub>=0.23.0 in c:\\users\\toheed\\documents\\github\\testprojects\\venv\\lib\\site-packages (from datasets->dspy) (0.27.0)\n",
      "Requirement already satisfied: packaging in c:\\users\\toheed\\documents\\github\\testprojects\\venv\\lib\\site-packages (from datasets->dspy) (24.2)\n",
      "Collecting alembic>=1.5.0 (from optuna->dspy)\n",
      "  Downloading alembic-1.14.0-py3-none-any.whl.metadata (7.4 kB)\n",
      "Collecting colorlog (from optuna->dspy)\n",
      "  Downloading colorlog-6.9.0-py3-none-any.whl.metadata (10 kB)\n",
      "Collecting sqlalchemy>=1.4.2 (from optuna->dspy)\n",
      "  Downloading SQLAlchemy-2.0.36-cp312-cp312-win_amd64.whl.metadata (9.9 kB)\n",
      "Requirement already satisfied: python-dateutil>=2.8.2 in c:\\users\\toheed\\documents\\github\\testprojects\\venv\\lib\\site-packages (from pandas->dspy) (2.9.0.post0)\n",
      "Requirement already satisfied: pytz>=2020.1 in c:\\users\\toheed\\documents\\github\\testprojects\\venv\\lib\\site-packages (from pandas->dspy) (2024.2)\n",
      "Requirement already satisfied: tzdata>=2022.7 in c:\\users\\toheed\\documents\\github\\testprojects\\venv\\lib\\site-packages (from pandas->dspy) (2024.2)\n",
      "Collecting Mako (from alembic>=1.5.0->optuna->dspy)\n",
      "  Downloading Mako-1.3.8-py3-none-any.whl.metadata (2.9 kB)\n",
      "Collecting tzlocal>=3.0 (from apscheduler<4.0.0,>=3.10.4->litellm[proxy]==1.53.7->dspy)\n",
      "  Downloading tzlocal-5.2-py3-none-any.whl.metadata (7.8 kB)\n",
      "Requirement already satisfied: cffi>=1.12 in c:\\users\\toheed\\documents\\github\\testprojects\\venv\\lib\\site-packages (from cryptography<43.0.0,>=42.0.5->litellm[proxy]==1.53.7->dspy) (1.17.1)\n",
      "Collecting starlette<0.38.0,>=0.37.2 (from fastapi<0.112.0,>=0.111.0->litellm[proxy]==1.53.7->dspy)\n",
      "  Downloading starlette-0.37.2-py3-none-any.whl.metadata (5.9 kB)\n",
      "Collecting fastapi-cli>=0.0.2 (from fastapi<0.112.0,>=0.111.0->litellm[proxy]==1.53.7->dspy)\n",
      "  Downloading fastapi_cli-0.0.7-py3-none-any.whl.metadata (6.2 kB)\n",
      "Collecting email_validator>=2.0.0 (from fastapi<0.112.0,>=0.111.0->litellm[proxy]==1.53.7->dspy)\n",
      "  Downloading email_validator-2.2.0-py3-none-any.whl.metadata (25 kB)\n",
      "Collecting oauthlib>=3.1.0 (from fastapi-sso<0.11.0,>=0.10.0->litellm[proxy]==1.53.7->dspy)\n",
      "  Downloading oauthlib-3.2.2-py3-none-any.whl.metadata (7.5 kB)\n",
      "Requirement already satisfied: aiohappyeyeballs>=2.3.0 in c:\\users\\toheed\\documents\\github\\testprojects\\venv\\lib\\site-packages (from aiohttp->litellm==1.53.7->litellm[proxy]==1.53.7->dspy) (2.4.4)\n",
      "Requirement already satisfied: aiosignal>=1.1.2 in c:\\users\\toheed\\documents\\github\\testprojects\\venv\\lib\\site-packages (from aiohttp->litellm==1.53.7->litellm[proxy]==1.53.7->dspy) (1.3.1)\n",
      "Requirement already satisfied: attrs>=17.3.0 in c:\\users\\toheed\\documents\\github\\testprojects\\venv\\lib\\site-packages (from aiohttp->litellm==1.53.7->litellm[proxy]==1.53.7->dspy) (24.2.0)\n",
      "Requirement already satisfied: frozenlist>=1.1.1 in c:\\users\\toheed\\documents\\github\\testprojects\\venv\\lib\\site-packages (from aiohttp->litellm==1.53.7->litellm[proxy]==1.53.7->dspy) (1.5.0)\n",
      "Requirement already satisfied: multidict<7.0,>=4.5 in c:\\users\\toheed\\documents\\github\\testprojects\\venv\\lib\\site-packages (from aiohttp->litellm==1.53.7->litellm[proxy]==1.53.7->dspy) (6.1.0)\n",
      "Requirement already satisfied: yarl<2.0,>=1.0 in c:\\users\\toheed\\documents\\github\\testprojects\\venv\\lib\\site-packages (from aiohttp->litellm==1.53.7->litellm[proxy]==1.53.7->dspy) (1.18.3)\n",
      "Requirement already satisfied: zipp>=3.20 in c:\\users\\toheed\\documents\\github\\testprojects\\venv\\lib\\site-packages (from importlib-metadata>=6.8.0->litellm==1.53.7->litellm[proxy]==1.53.7->dspy) (3.21.0)\n",
      "Requirement already satisfied: jsonschema-specifications>=2023.03.6 in c:\\users\\toheed\\documents\\github\\testprojects\\venv\\lib\\site-packages (from jsonschema<5.0.0,>=4.22.0->litellm==1.53.7->litellm[proxy]==1.53.7->dspy) (2024.10.1)\n",
      "Requirement already satisfied: referencing>=0.28.4 in c:\\users\\toheed\\documents\\github\\testprojects\\venv\\lib\\site-packages (from jsonschema<5.0.0,>=4.22.0->litellm==1.53.7->litellm[proxy]==1.53.7->dspy) (0.35.1)\n",
      "Requirement already satisfied: rpds-py>=0.7.1 in c:\\users\\toheed\\documents\\github\\testprojects\\venv\\lib\\site-packages (from jsonschema<5.0.0,>=4.22.0->litellm==1.53.7->litellm[proxy]==1.53.7->dspy) (0.22.1)\n",
      "Requirement already satisfied: six>=1.5 in c:\\users\\toheed\\documents\\github\\testprojects\\venv\\lib\\site-packages (from python-dateutil>=2.8.2->pandas->dspy) (1.16.0)\n",
      "Collecting greenlet!=0.4.17 (from sqlalchemy>=1.4.2->optuna->dspy)\n",
      "  Downloading greenlet-3.1.1-cp312-cp312-win_amd64.whl.metadata (3.9 kB)\n",
      "Collecting redis>=3.5 (from rq->litellm[proxy]==1.53.7->dspy)\n",
      "  Downloading redis-5.2.1-py3-none-any.whl.metadata (9.1 kB)\n",
      "Requirement already satisfied: pycparser in c:\\users\\toheed\\documents\\github\\testprojects\\venv\\lib\\site-packages (from cffi>=1.12->cryptography<43.0.0,>=42.0.5->litellm[proxy]==1.53.7->dspy) (2.22)\n",
      "Collecting dnspython>=2.0.0 (from email_validator>=2.0.0->fastapi<0.112.0,>=0.111.0->litellm[proxy]==1.53.7->dspy)\n",
      "  Downloading dnspython-2.7.0-py3-none-any.whl.metadata (5.8 kB)\n",
      "Collecting typer>=0.12.3 (from fastapi-cli>=0.0.2->fastapi<0.112.0,>=0.111.0->litellm[proxy]==1.53.7->dspy)\n",
      "  Downloading typer-0.15.1-py3-none-any.whl.metadata (15 kB)\n",
      "Collecting rich-toolkit>=0.11.1 (from fastapi-cli>=0.0.2->fastapi<0.112.0,>=0.111.0->litellm[proxy]==1.53.7->dspy)\n",
      "  Downloading rich_toolkit-0.12.0-py3-none-any.whl.metadata (966 bytes)\n",
      "Collecting httptools>=0.5.0 (from uvicorn[standard]>=0.12.0->fastapi<0.112.0,>=0.111.0->litellm[proxy]==1.53.7->dspy)\n",
      "  Downloading httptools-0.6.4-cp312-cp312-win_amd64.whl.metadata (3.7 kB)\n",
      "Collecting watchfiles>=0.13 (from uvicorn[standard]>=0.12.0->fastapi<0.112.0,>=0.111.0->litellm[proxy]==1.53.7->dspy)\n",
      "  Downloading watchfiles-1.0.3-cp312-cp312-win_amd64.whl.metadata (5.0 kB)\n",
      "Collecting websockets>=10.4 (from uvicorn[standard]>=0.12.0->fastapi<0.112.0,>=0.111.0->litellm[proxy]==1.53.7->dspy)\n",
      "  Downloading websockets-14.1-cp312-cp312-win_amd64.whl.metadata (6.9 kB)\n",
      "Requirement already satisfied: propcache>=0.2.0 in c:\\users\\toheed\\documents\\github\\testprojects\\venv\\lib\\site-packages (from yarl<2.0,>=1.0->aiohttp->litellm==1.53.7->litellm[proxy]==1.53.7->dspy) (0.2.1)\n",
      "Collecting rich>=13.7.1 (from rich-toolkit>=0.11.1->fastapi-cli>=0.0.2->fastapi<0.112.0,>=0.111.0->litellm[proxy]==1.53.7->dspy)\n",
      "  Downloading rich-13.9.4-py3-none-any.whl.metadata (18 kB)\n",
      "Collecting shellingham>=1.3.0 (from typer>=0.12.3->fastapi-cli>=0.0.2->fastapi<0.112.0,>=0.111.0->litellm[proxy]==1.53.7->dspy)\n",
      "  Downloading shellingham-1.5.4-py2.py3-none-any.whl.metadata (3.5 kB)\n",
      "Collecting markdown-it-py>=2.2.0 (from rich>=13.7.1->rich-toolkit>=0.11.1->fastapi-cli>=0.0.2->fastapi<0.112.0,>=0.111.0->litellm[proxy]==1.53.7->dspy)\n",
      "  Downloading markdown_it_py-3.0.0-py3-none-any.whl.metadata (6.9 kB)\n",
      "Requirement already satisfied: pygments<3.0.0,>=2.13.0 in c:\\users\\toheed\\documents\\github\\testprojects\\venv\\lib\\site-packages (from rich>=13.7.1->rich-toolkit>=0.11.1->fastapi-cli>=0.0.2->fastapi<0.112.0,>=0.111.0->litellm[proxy]==1.53.7->dspy) (2.18.0)\n",
      "Collecting mdurl~=0.1 (from markdown-it-py>=2.2.0->rich>=13.7.1->rich-toolkit>=0.11.1->fastapi-cli>=0.0.2->fastapi<0.112.0,>=0.111.0->litellm[proxy]==1.53.7->dspy)\n",
      "  Downloading mdurl-0.1.2-py3-none-any.whl.metadata (1.6 kB)\n",
      "Downloading dspy-2.5.43-py3-none-any.whl (345 kB)\n",
      "Downloading asyncer-0.0.8-py3-none-any.whl (9.2 kB)\n",
      "Downloading litellm-1.53.7-py3-none-any.whl (6.4 MB)\n",
      "   ---------------------------------------- 0.0/6.4 MB ? eta -:--:--\n",
      "   ----------- ---------------------------- 1.8/6.4 MB 10.1 MB/s eta 0:00:01\n",
      "   ------------------------ --------------- 3.9/6.4 MB 9.8 MB/s eta 0:00:01\n",
      "   ---------------------------------------  6.3/6.4 MB 9.9 MB/s eta 0:00:01\n",
      "   ---------------------------------------- 6.4/6.4 MB 9.9 MB/s eta 0:00:00\n",
      "Using cached httpx-0.27.2-py3-none-any.whl (76 kB)\n",
      "Downloading magicattr-0.1.6-py2.py3-none-any.whl (4.7 kB)\n",
      "Downloading openai-1.57.4-py3-none-any.whl (390 kB)\n",
      "Downloading pydantic-2.10.3-py3-none-any.whl (456 kB)\n",
      "Downloading pydantic_core-2.27.1-cp312-none-win_amd64.whl (2.0 MB)\n",
      "   ---------------------------------------- 0.0/2.0 MB ? eta -:--:--\n",
      "   ---------------------------------------- 2.0/2.0 MB 9.2 MB/s eta 0:00:00\n",
      "Downloading tenacity-9.0.0-py3-none-any.whl (28 kB)\n",
      "Downloading backoff-2.2.1-py3-none-any.whl (15 kB)\n",
      "Downloading cachetools-5.5.0-py3-none-any.whl (9.5 kB)\n",
      "Downloading cloudpickle-3.1.0-py3-none-any.whl (22 kB)\n",
      "Downloading diskcache-5.6.3-py3-none-any.whl (45 kB)\n",
      "Downloading json_repair-0.31.0-py3-none-any.whl (19 kB)\n",
      "Downloading optuna-4.1.0-py3-none-any.whl (364 kB)\n",
      "Downloading ujson-5.10.0-cp312-cp312-win_amd64.whl (42 kB)\n",
      "Downloading alembic-1.14.0-py3-none-any.whl (233 kB)\n",
      "Downloading annotated_types-0.7.0-py3-none-any.whl (13 kB)\n",
      "Downloading APScheduler-3.11.0-py3-none-any.whl (64 kB)\n",
      "Downloading cryptography-42.0.8-cp39-abi3-win_amd64.whl (2.9 MB)\n",
      "   ---------------------------------------- 0.0/2.9 MB ? eta -:--:--\n",
      "   ------------------------- -------------- 1.8/2.9 MB 10.0 MB/s eta 0:00:01\n",
      "   ---------------------------------------- 2.9/2.9 MB 9.9 MB/s eta 0:00:00\n",
      "Downloading distro-1.9.0-py3-none-any.whl (20 kB)\n",
      "Downloading fastapi-0.111.1-py3-none-any.whl (92 kB)\n",
      "Downloading fastapi_sso-0.10.0-py3-none-any.whl (16 kB)\n",
      "Downloading gunicorn-22.0.0-py3-none-any.whl (84 kB)\n",
      "Downloading jiter-0.8.2-cp312-cp312-win_amd64.whl (204 kB)\n",
      "Downloading orjson-3.10.12-cp312-none-win_amd64.whl (135 kB)\n",
      "Downloading PyJWT-2.10.1-py3-none-any.whl (22 kB)\n",
      "Downloading PyNaCl-1.5.0-cp36-abi3-win_amd64.whl (212 kB)\n",
      "Downloading python_dotenv-1.0.1-py3-none-any.whl (19 kB)\n",
      "Downloading python_multipart-0.0.9-py3-none-any.whl (22 kB)\n",
      "Downloading SQLAlchemy-2.0.36-cp312-cp312-win_amd64.whl (2.1 MB)\n",
      "   ---------------------------------------- 0.0/2.1 MB ? eta -:--:--\n",
      "   ----------------------------------- ---- 1.8/2.1 MB 10.0 MB/s eta 0:00:01\n",
      "   ---------------------------------------- 2.1/2.1 MB 9.7 MB/s eta 0:00:00\n",
      "Downloading tiktoken-0.8.0-cp312-cp312-win_amd64.whl (883 kB)\n",
      "   ---------------------------------------- 0.0/883.8 kB ? eta -:--:--\n",
      "   --------------------------------------- 883.8/883.8 kB 10.0 MB/s eta 0:00:00\n",
      "Downloading uvicorn-0.22.0-py3-none-any.whl (58 kB)\n",
      "Downloading colorlog-6.9.0-py3-none-any.whl (11 kB)\n",
      "Downloading rq-2.0.0-py3-none-any.whl (95 kB)\n",
      "Downloading email_validator-2.2.0-py3-none-any.whl (33 kB)\n",
      "Downloading fastapi_cli-0.0.7-py3-none-any.whl (10 kB)\n",
      "Downloading greenlet-3.1.1-cp312-cp312-win_amd64.whl (299 kB)\n",
      "Downloading oauthlib-3.2.2-py3-none-any.whl (151 kB)\n",
      "Downloading redis-5.2.1-py3-none-any.whl (261 kB)\n",
      "Downloading starlette-0.37.2-py3-none-any.whl (71 kB)\n",
      "Downloading tzlocal-5.2-py3-none-any.whl (17 kB)\n",
      "Downloading Mako-1.3.8-py3-none-any.whl (78 kB)\n",
      "Downloading dnspython-2.7.0-py3-none-any.whl (313 kB)\n",
      "Downloading httptools-0.6.4-cp312-cp312-win_amd64.whl (88 kB)\n",
      "Downloading rich_toolkit-0.12.0-py3-none-any.whl (13 kB)\n",
      "Downloading typer-0.15.1-py3-none-any.whl (44 kB)\n",
      "Downloading watchfiles-1.0.3-cp312-cp312-win_amd64.whl (285 kB)\n",
      "Downloading websockets-14.1-cp312-cp312-win_amd64.whl (163 kB)\n",
      "Downloading rich-13.9.4-py3-none-any.whl (242 kB)\n",
      "Downloading shellingham-1.5.4-py2.py3-none-any.whl (9.8 kB)\n",
      "Downloading markdown_it_py-3.0.0-py3-none-any.whl (87 kB)\n",
      "Downloading mdurl-0.1.2-py3-none-any.whl (10.0 kB)\n",
      "Installing collected packages: magicattr, websockets, ujson, tzlocal, tenacity, shellingham, redis, python-multipart, python-dotenv, PyJWT, pydantic-core, orjson, oauthlib, mdurl, Mako, json-repair, jiter, httptools, gunicorn, greenlet, dnspython, distro, diskcache, colorlog, cloudpickle, cachetools, backoff, annotated-types, watchfiles, uvicorn, tiktoken, starlette, sqlalchemy, rq, pynacl, pydantic, markdown-it-py, httpx, email_validator, cryptography, asyncer, apscheduler, rich, openai, alembic, typer, rich-toolkit, optuna, litellm, fastapi-cli, fastapi, fastapi-sso, dspy\n",
      "  Attempting uninstall: httpx\n",
      "    Found existing installation: httpx 0.28.0\n",
      "    Uninstalling httpx-0.28.0:\n",
      "      Successfully uninstalled httpx-0.28.0\n",
      "  Attempting uninstall: cryptography\n",
      "    Found existing installation: cryptography 44.0.0\n",
      "    Uninstalling cryptography-44.0.0:\n",
      "      Successfully uninstalled cryptography-44.0.0\n",
      "Successfully installed Mako-1.3.8 PyJWT-2.10.1 alembic-1.14.0 annotated-types-0.7.0 apscheduler-3.11.0 asyncer-0.0.8 backoff-2.2.1 cachetools-5.5.0 cloudpickle-3.1.0 colorlog-6.9.0 cryptography-42.0.8 diskcache-5.6.3 distro-1.9.0 dnspython-2.7.0 dspy-2.5.43 email_validator-2.2.0 fastapi-0.111.1 fastapi-cli-0.0.7 fastapi-sso-0.10.0 greenlet-3.1.1 gunicorn-22.0.0 httptools-0.6.4 httpx-0.27.2 jiter-0.8.2 json-repair-0.31.0 litellm-1.53.7 magicattr-0.1.6 markdown-it-py-3.0.0 mdurl-0.1.2 oauthlib-3.2.2 openai-1.57.4 optuna-4.1.0 orjson-3.10.12 pydantic-2.10.3 pydantic-core-2.27.1 pynacl-1.5.0 python-dotenv-1.0.1 python-multipart-0.0.9 redis-5.2.1 rich-13.9.4 rich-toolkit-0.12.0 rq-2.0.0 shellingham-1.5.4 sqlalchemy-2.0.36 starlette-0.37.2 tenacity-9.0.0 tiktoken-0.8.0 typer-0.15.1 tzlocal-5.2 ujson-5.10.0 uvicorn-0.22.0 watchfiles-1.0.3 websockets-14.1\n"
     ]
    },
    {
     "name": "stderr",
     "output_type": "stream",
     "text": [
      "ERROR: pip's dependency resolver does not currently take into account all the packages that are installed. This behaviour is the source of the following dependency conflicts.\n",
      "jupyterlab 4.3.2 requires httpx~=0.28.0, but you have httpx 0.27.2 which is incompatible.\n"
     ]
    }
   ],
   "source": [
    "!pip install dspy"
   ]
  },
  {
   "cell_type": "markdown",
   "metadata": {},
   "source": [
    "# Load Dataset WikiText-2 Dataset\n"
   ]
  },
  {
   "cell_type": "code",
   "execution_count": 3,
   "metadata": {},
   "outputs": [
    {
     "data": {
      "application/vnd.jupyter.widget-view+json": {
       "model_id": "35ea9a850b724105b41dcb0dabda8be5",
       "version_major": 2,
       "version_minor": 0
      },
      "text/plain": [
       "README.md:   0%|          | 0.00/10.5k [00:00<?, ?B/s]"
      ]
     },
     "metadata": {},
     "output_type": "display_data"
    },
    {
     "name": "stderr",
     "output_type": "stream",
     "text": [
      "c:\\Users\\Toheed\\Documents\\GitHub\\TestProjects\\venv\\Lib\\site-packages\\huggingface_hub\\file_download.py:140: UserWarning: `huggingface_hub` cache-system uses symlinks by default to efficiently store duplicated files but your machine does not support them in C:\\Users\\Toheed\\.cache\\huggingface\\hub\\datasets--wikitext. Caching files will still work but in a degraded version that might require more space on your disk. This warning can be disabled by setting the `HF_HUB_DISABLE_SYMLINKS_WARNING` environment variable. For more details, see https://huggingface.co/docs/huggingface_hub/how-to-cache#limitations.\n",
      "To support symlinks on Windows, you either need to activate Developer Mode or to run Python as an administrator. In order to activate developer mode, see this article: https://docs.microsoft.com/en-us/windows/apps/get-started/enable-your-device-for-development\n",
      "  warnings.warn(message)\n"
     ]
    },
    {
     "data": {
      "application/vnd.jupyter.widget-view+json": {
       "model_id": "47193ca7bfd448d58952327f9eeaf40a",
       "version_major": 2,
       "version_minor": 0
      },
      "text/plain": [
       "test-00000-of-00001.parquet:   0%|          | 0.00/733k [00:00<?, ?B/s]"
      ]
     },
     "metadata": {},
     "output_type": "display_data"
    },
    {
     "data": {
      "application/vnd.jupyter.widget-view+json": {
       "model_id": "dd2fb9a876624238a868ff54b82f7569",
       "version_major": 2,
       "version_minor": 0
      },
      "text/plain": [
       "train-00000-of-00001.parquet:   0%|          | 0.00/6.36M [00:00<?, ?B/s]"
      ]
     },
     "metadata": {},
     "output_type": "display_data"
    },
    {
     "data": {
      "application/vnd.jupyter.widget-view+json": {
       "model_id": "f5c7c0de494a4bd9857da874ea7e3f12",
       "version_major": 2,
       "version_minor": 0
      },
      "text/plain": [
       "validation-00000-of-00001.parquet:   0%|          | 0.00/657k [00:00<?, ?B/s]"
      ]
     },
     "metadata": {},
     "output_type": "display_data"
    },
    {
     "data": {
      "application/vnd.jupyter.widget-view+json": {
       "model_id": "de7b8b1acd87474b9be9e939fb5f2c8b",
       "version_major": 2,
       "version_minor": 0
      },
      "text/plain": [
       "Generating test split:   0%|          | 0/4358 [00:00<?, ? examples/s]"
      ]
     },
     "metadata": {},
     "output_type": "display_data"
    },
    {
     "data": {
      "application/vnd.jupyter.widget-view+json": {
       "model_id": "e54beba2de1144929b0f72b320e749d2",
       "version_major": 2,
       "version_minor": 0
      },
      "text/plain": [
       "Generating train split:   0%|          | 0/36718 [00:00<?, ? examples/s]"
      ]
     },
     "metadata": {},
     "output_type": "display_data"
    },
    {
     "data": {
      "application/vnd.jupyter.widget-view+json": {
       "model_id": "8497219113394341aa2ec8d4667fc9bf",
       "version_major": 2,
       "version_minor": 0
      },
      "text/plain": [
       "Generating validation split:   0%|          | 0/3760 [00:00<?, ? examples/s]"
      ]
     },
     "metadata": {},
     "output_type": "display_data"
    },
    {
     "name": "stdout",
     "output_type": "stream",
     "text": [
      "Train size: 4000, Test size: 1000\n"
     ]
    }
   ],
   "source": [
    "from datasets import load_dataset\n",
    "from sklearn.model_selection import train_test_split\n",
    "\n",
    "# Load WikiText-2 Dataset\n",
    "dataset = load_dataset(\"wikitext\", \"wikitext-2-raw-v1\", split=\"train\")\n",
    "\n",
    "# Convert dataset to a list of texts\n",
    "text_data = dataset['text']\n",
    "text_data = [text for text in text_data if text.strip()]  # Remove empty lines\n",
    "\n",
    "# Take a small subset for experimentation\n",
    "sample_size = 5000\n",
    "text_data = text_data[:sample_size]\n",
    "\n",
    "# Train-test split (80/20)\n",
    "train_data, test_data = train_test_split(text_data, test_size=0.2, random_state=42)\n",
    "\n",
    "print(f\"Train size: {len(train_data)}, Test size: {len(test_data)}\")\n"
   ]
  },
  {
   "cell_type": "code",
   "execution_count": 30,
   "metadata": {},
   "outputs": [
    {
     "name": "stdout",
     "output_type": "stream",
     "text": [
      "The purpose of life is a question that has puzzled philosophers, theologians, scientists, and everyday people\n"
     ]
    }
   ],
   "source": [
    "from openai import OpenAI\n",
    "\n",
    "# Set the API key and the base URL (with the /v1 endpoint)\n",
    "client = OpenAI(\n",
    "    base_url=\"http://mobydick.elte-dh.hu:12321/v1\",  # Use the correct endpoint URL\n",
    "    api_key=\"MG2vJsTXmYL064W68Bi7dTW4dR\"  # Replace with your actual API key from your university\n",
    ")\n",
    "\n",
    "# Sending a request to the model\n",
    "chat_completion = client.chat.completions.create(\n",
    "    model=\"hugging-quants/Meta-Llama-3.1-70B-Instruct-AWQ-INT4\",  # Specify the model\n",
    "    messages=[\n",
    "        {\"role\": \"system\", \"content\": \"You are a helpful assistant.\"},\n",
    "        {\"role\": \"user\", \"content\": \"What is the purpose of life?\"}\n",
    "    ],\n",
    "    stream=False,\n",
    "    max_tokens=20\n",
    ")\n",
    "\n",
    "# Printing the response\n",
    "response_content=chat_completion.choices[0].message.content\n",
    "print(response_content)\n"
   ]
  }
 ],
 "metadata": {
  "kernelspec": {
   "display_name": "venv",
   "language": "python",
   "name": "python3"
  },
  "language_info": {
   "codemirror_mode": {
    "name": "ipython",
    "version": 3
   },
   "file_extension": ".py",
   "mimetype": "text/x-python",
   "name": "python",
   "nbconvert_exporter": "python",
   "pygments_lexer": "ipython3",
   "version": "3.12.3"
  }
 },
 "nbformat": 4,
 "nbformat_minor": 2
}
